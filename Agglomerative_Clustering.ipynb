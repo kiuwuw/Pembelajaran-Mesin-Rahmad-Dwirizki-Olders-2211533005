{
  "nbformat": 4,
  "nbformat_minor": 0,
  "metadata": {
    "colab": {
      "provenance": [],
      "include_colab_link": true
    },
    "kernelspec": {
      "name": "python3",
      "display_name": "Python 3"
    },
    "language_info": {
      "name": "python"
    }
  },
  "cells": [
    {
      "cell_type": "markdown",
      "metadata": {
        "id": "view-in-github",
        "colab_type": "text"
      },
      "source": [
        "<a href=\"https://colab.research.google.com/github/kiuwuw/Pembelajaran-Mesin-Rahmad-Dwirizki-Olders-2211533005/blob/main/Agglomerative_Clustering.ipynb\" target=\"_parent\"><img src=\"https://colab.research.google.com/assets/colab-badge.svg\" alt=\"Open In Colab\"/></a>"
      ]
    },
    {
      "cell_type": "code",
      "execution_count": null,
      "metadata": {
        "id": "eYjs5uwgYcRG"
      },
      "outputs": [],
      "source": [
        "import numpy as np\n",
        "import pandas as pd\n",
        "import matplotlib.pyplot as plt\n",
        "import seaborn as sns\n",
        "from sklearn.cluster import KMeans, AgglomerativeClustering, AffinityPropagation\n",
        "\n",
        "import warnings\n",
        "warnings.filterwarnings('ignore')"
      ]
    },
    {
      "cell_type": "markdown",
      "source": [
        "import numpy as np\n",
        "import pandas as pd\n",
        "import matplotlib.pyplot as plt\n",
        "import seaborn as sns\n",
        "from sklearn.cluster import KMeans, AgglomerativeClustering, AffinityPropagation\n",
        "\n",
        "import warnings\n",
        "warnings.filterwarnings('ignore')"
      ],
      "metadata": {
        "id": "RvIJ5oDhgOyB"
      }
    },
    {
      "cell_type": "code",
      "source": [
        "data = pd.read_csv(\"pokemon_df.csv\")\n",
        "data[0:10]"
      ],
      "metadata": {
        "colab": {
          "base_uri": "https://localhost:8080/",
          "height": 363
        },
        "id": "eZd2dtreYgxw",
        "outputId": "54462a67-90ce-41be-e993-624cf40928c9"
      },
      "execution_count": null,
      "outputs": [
        {
          "output_type": "execute_result",
          "data": {
            "text/plain": [
              "         Name  Total  HP  Attack  Defence  Sp_attack  Sp_defence  Speed\n",
              "0   Bulbasaur    318  45      49       49         65          65     45\n",
              "1     Ivysaur    405  60      62       63         80          80     60\n",
              "2    Venusaur    525  80      82       83        100         100     80\n",
              "3    Venusaur    625  80     100      123        122         120     80\n",
              "4  Charmander    309  39      52       43         60          50     65\n",
              "5  Charmeleon    405  58      64       58         80          65     80\n",
              "6   Charizard    534  78      84       78        109          85    100\n",
              "7   Charizard    634  78     130      111        130          85    100\n",
              "8   Charizard    634  78     104       78        159         115    100\n",
              "9    Squirtle    314  44      48       65         50          64     43"
            ],
            "text/html": [
              "\n",
              "  <div id=\"df-caf3fb2e-3551-46a3-aa39-49b756e137f5\" class=\"colab-df-container\">\n",
              "    <div>\n",
              "<style scoped>\n",
              "    .dataframe tbody tr th:only-of-type {\n",
              "        vertical-align: middle;\n",
              "    }\n",
              "\n",
              "    .dataframe tbody tr th {\n",
              "        vertical-align: top;\n",
              "    }\n",
              "\n",
              "    .dataframe thead th {\n",
              "        text-align: right;\n",
              "    }\n",
              "</style>\n",
              "<table border=\"1\" class=\"dataframe\">\n",
              "  <thead>\n",
              "    <tr style=\"text-align: right;\">\n",
              "      <th></th>\n",
              "      <th>Name</th>\n",
              "      <th>Total</th>\n",
              "      <th>HP</th>\n",
              "      <th>Attack</th>\n",
              "      <th>Defence</th>\n",
              "      <th>Sp_attack</th>\n",
              "      <th>Sp_defence</th>\n",
              "      <th>Speed</th>\n",
              "    </tr>\n",
              "  </thead>\n",
              "  <tbody>\n",
              "    <tr>\n",
              "      <th>0</th>\n",
              "      <td>Bulbasaur</td>\n",
              "      <td>318</td>\n",
              "      <td>45</td>\n",
              "      <td>49</td>\n",
              "      <td>49</td>\n",
              "      <td>65</td>\n",
              "      <td>65</td>\n",
              "      <td>45</td>\n",
              "    </tr>\n",
              "    <tr>\n",
              "      <th>1</th>\n",
              "      <td>Ivysaur</td>\n",
              "      <td>405</td>\n",
              "      <td>60</td>\n",
              "      <td>62</td>\n",
              "      <td>63</td>\n",
              "      <td>80</td>\n",
              "      <td>80</td>\n",
              "      <td>60</td>\n",
              "    </tr>\n",
              "    <tr>\n",
              "      <th>2</th>\n",
              "      <td>Venusaur</td>\n",
              "      <td>525</td>\n",
              "      <td>80</td>\n",
              "      <td>82</td>\n",
              "      <td>83</td>\n",
              "      <td>100</td>\n",
              "      <td>100</td>\n",
              "      <td>80</td>\n",
              "    </tr>\n",
              "    <tr>\n",
              "      <th>3</th>\n",
              "      <td>Venusaur</td>\n",
              "      <td>625</td>\n",
              "      <td>80</td>\n",
              "      <td>100</td>\n",
              "      <td>123</td>\n",
              "      <td>122</td>\n",
              "      <td>120</td>\n",
              "      <td>80</td>\n",
              "    </tr>\n",
              "    <tr>\n",
              "      <th>4</th>\n",
              "      <td>Charmander</td>\n",
              "      <td>309</td>\n",
              "      <td>39</td>\n",
              "      <td>52</td>\n",
              "      <td>43</td>\n",
              "      <td>60</td>\n",
              "      <td>50</td>\n",
              "      <td>65</td>\n",
              "    </tr>\n",
              "    <tr>\n",
              "      <th>5</th>\n",
              "      <td>Charmeleon</td>\n",
              "      <td>405</td>\n",
              "      <td>58</td>\n",
              "      <td>64</td>\n",
              "      <td>58</td>\n",
              "      <td>80</td>\n",
              "      <td>65</td>\n",
              "      <td>80</td>\n",
              "    </tr>\n",
              "    <tr>\n",
              "      <th>6</th>\n",
              "      <td>Charizard</td>\n",
              "      <td>534</td>\n",
              "      <td>78</td>\n",
              "      <td>84</td>\n",
              "      <td>78</td>\n",
              "      <td>109</td>\n",
              "      <td>85</td>\n",
              "      <td>100</td>\n",
              "    </tr>\n",
              "    <tr>\n",
              "      <th>7</th>\n",
              "      <td>Charizard</td>\n",
              "      <td>634</td>\n",
              "      <td>78</td>\n",
              "      <td>130</td>\n",
              "      <td>111</td>\n",
              "      <td>130</td>\n",
              "      <td>85</td>\n",
              "      <td>100</td>\n",
              "    </tr>\n",
              "    <tr>\n",
              "      <th>8</th>\n",
              "      <td>Charizard</td>\n",
              "      <td>634</td>\n",
              "      <td>78</td>\n",
              "      <td>104</td>\n",
              "      <td>78</td>\n",
              "      <td>159</td>\n",
              "      <td>115</td>\n",
              "      <td>100</td>\n",
              "    </tr>\n",
              "    <tr>\n",
              "      <th>9</th>\n",
              "      <td>Squirtle</td>\n",
              "      <td>314</td>\n",
              "      <td>44</td>\n",
              "      <td>48</td>\n",
              "      <td>65</td>\n",
              "      <td>50</td>\n",
              "      <td>64</td>\n",
              "      <td>43</td>\n",
              "    </tr>\n",
              "  </tbody>\n",
              "</table>\n",
              "</div>\n",
              "    <div class=\"colab-df-buttons\">\n",
              "\n",
              "  <div class=\"colab-df-container\">\n",
              "    <button class=\"colab-df-convert\" onclick=\"convertToInteractive('df-caf3fb2e-3551-46a3-aa39-49b756e137f5')\"\n",
              "            title=\"Convert this dataframe to an interactive table.\"\n",
              "            style=\"display:none;\">\n",
              "\n",
              "  <svg xmlns=\"http://www.w3.org/2000/svg\" height=\"24px\" viewBox=\"0 -960 960 960\">\n",
              "    <path d=\"M120-120v-720h720v720H120Zm60-500h600v-160H180v160Zm220 220h160v-160H400v160Zm0 220h160v-160H400v160ZM180-400h160v-160H180v160Zm440 0h160v-160H620v160ZM180-180h160v-160H180v160Zm440 0h160v-160H620v160Z\"/>\n",
              "  </svg>\n",
              "    </button>\n",
              "\n",
              "  <style>\n",
              "    .colab-df-container {\n",
              "      display:flex;\n",
              "      gap: 12px;\n",
              "    }\n",
              "\n",
              "    .colab-df-convert {\n",
              "      background-color: #E8F0FE;\n",
              "      border: none;\n",
              "      border-radius: 50%;\n",
              "      cursor: pointer;\n",
              "      display: none;\n",
              "      fill: #1967D2;\n",
              "      height: 32px;\n",
              "      padding: 0 0 0 0;\n",
              "      width: 32px;\n",
              "    }\n",
              "\n",
              "    .colab-df-convert:hover {\n",
              "      background-color: #E2EBFA;\n",
              "      box-shadow: 0px 1px 2px rgba(60, 64, 67, 0.3), 0px 1px 3px 1px rgba(60, 64, 67, 0.15);\n",
              "      fill: #174EA6;\n",
              "    }\n",
              "\n",
              "    .colab-df-buttons div {\n",
              "      margin-bottom: 4px;\n",
              "    }\n",
              "\n",
              "    [theme=dark] .colab-df-convert {\n",
              "      background-color: #3B4455;\n",
              "      fill: #D2E3FC;\n",
              "    }\n",
              "\n",
              "    [theme=dark] .colab-df-convert:hover {\n",
              "      background-color: #434B5C;\n",
              "      box-shadow: 0px 1px 3px 1px rgba(0, 0, 0, 0.15);\n",
              "      filter: drop-shadow(0px 1px 2px rgba(0, 0, 0, 0.3));\n",
              "      fill: #FFFFFF;\n",
              "    }\n",
              "  </style>\n",
              "\n",
              "    <script>\n",
              "      const buttonEl =\n",
              "        document.querySelector('#df-caf3fb2e-3551-46a3-aa39-49b756e137f5 button.colab-df-convert');\n",
              "      buttonEl.style.display =\n",
              "        google.colab.kernel.accessAllowed ? 'block' : 'none';\n",
              "\n",
              "      async function convertToInteractive(key) {\n",
              "        const element = document.querySelector('#df-caf3fb2e-3551-46a3-aa39-49b756e137f5');\n",
              "        const dataTable =\n",
              "          await google.colab.kernel.invokeFunction('convertToInteractive',\n",
              "                                                    [key], {});\n",
              "        if (!dataTable) return;\n",
              "\n",
              "        const docLinkHtml = 'Like what you see? Visit the ' +\n",
              "          '<a target=\"_blank\" href=https://colab.research.google.com/notebooks/data_table.ipynb>data table notebook</a>'\n",
              "          + ' to learn more about interactive tables.';\n",
              "        element.innerHTML = '';\n",
              "        dataTable['output_type'] = 'display_data';\n",
              "        await google.colab.output.renderOutput(dataTable, element);\n",
              "        const docLink = document.createElement('div');\n",
              "        docLink.innerHTML = docLinkHtml;\n",
              "        element.appendChild(docLink);\n",
              "      }\n",
              "    </script>\n",
              "  </div>\n",
              "\n",
              "\n",
              "<div id=\"df-d8679257-edbf-4294-8a34-b83d456aeb48\">\n",
              "  <button class=\"colab-df-quickchart\" onclick=\"quickchart('df-d8679257-edbf-4294-8a34-b83d456aeb48')\"\n",
              "            title=\"Suggest charts\"\n",
              "            style=\"display:none;\">\n",
              "\n",
              "<svg xmlns=\"http://www.w3.org/2000/svg\" height=\"24px\"viewBox=\"0 0 24 24\"\n",
              "     width=\"24px\">\n",
              "    <g>\n",
              "        <path d=\"M19 3H5c-1.1 0-2 .9-2 2v14c0 1.1.9 2 2 2h14c1.1 0 2-.9 2-2V5c0-1.1-.9-2-2-2zM9 17H7v-7h2v7zm4 0h-2V7h2v10zm4 0h-2v-4h2v4z\"/>\n",
              "    </g>\n",
              "</svg>\n",
              "  </button>\n",
              "\n",
              "<style>\n",
              "  .colab-df-quickchart {\n",
              "      --bg-color: #E8F0FE;\n",
              "      --fill-color: #1967D2;\n",
              "      --hover-bg-color: #E2EBFA;\n",
              "      --hover-fill-color: #174EA6;\n",
              "      --disabled-fill-color: #AAA;\n",
              "      --disabled-bg-color: #DDD;\n",
              "  }\n",
              "\n",
              "  [theme=dark] .colab-df-quickchart {\n",
              "      --bg-color: #3B4455;\n",
              "      --fill-color: #D2E3FC;\n",
              "      --hover-bg-color: #434B5C;\n",
              "      --hover-fill-color: #FFFFFF;\n",
              "      --disabled-bg-color: #3B4455;\n",
              "      --disabled-fill-color: #666;\n",
              "  }\n",
              "\n",
              "  .colab-df-quickchart {\n",
              "    background-color: var(--bg-color);\n",
              "    border: none;\n",
              "    border-radius: 50%;\n",
              "    cursor: pointer;\n",
              "    display: none;\n",
              "    fill: var(--fill-color);\n",
              "    height: 32px;\n",
              "    padding: 0;\n",
              "    width: 32px;\n",
              "  }\n",
              "\n",
              "  .colab-df-quickchart:hover {\n",
              "    background-color: var(--hover-bg-color);\n",
              "    box-shadow: 0 1px 2px rgba(60, 64, 67, 0.3), 0 1px 3px 1px rgba(60, 64, 67, 0.15);\n",
              "    fill: var(--button-hover-fill-color);\n",
              "  }\n",
              "\n",
              "  .colab-df-quickchart-complete:disabled,\n",
              "  .colab-df-quickchart-complete:disabled:hover {\n",
              "    background-color: var(--disabled-bg-color);\n",
              "    fill: var(--disabled-fill-color);\n",
              "    box-shadow: none;\n",
              "  }\n",
              "\n",
              "  .colab-df-spinner {\n",
              "    border: 2px solid var(--fill-color);\n",
              "    border-color: transparent;\n",
              "    border-bottom-color: var(--fill-color);\n",
              "    animation:\n",
              "      spin 1s steps(1) infinite;\n",
              "  }\n",
              "\n",
              "  @keyframes spin {\n",
              "    0% {\n",
              "      border-color: transparent;\n",
              "      border-bottom-color: var(--fill-color);\n",
              "      border-left-color: var(--fill-color);\n",
              "    }\n",
              "    20% {\n",
              "      border-color: transparent;\n",
              "      border-left-color: var(--fill-color);\n",
              "      border-top-color: var(--fill-color);\n",
              "    }\n",
              "    30% {\n",
              "      border-color: transparent;\n",
              "      border-left-color: var(--fill-color);\n",
              "      border-top-color: var(--fill-color);\n",
              "      border-right-color: var(--fill-color);\n",
              "    }\n",
              "    40% {\n",
              "      border-color: transparent;\n",
              "      border-right-color: var(--fill-color);\n",
              "      border-top-color: var(--fill-color);\n",
              "    }\n",
              "    60% {\n",
              "      border-color: transparent;\n",
              "      border-right-color: var(--fill-color);\n",
              "    }\n",
              "    80% {\n",
              "      border-color: transparent;\n",
              "      border-right-color: var(--fill-color);\n",
              "      border-bottom-color: var(--fill-color);\n",
              "    }\n",
              "    90% {\n",
              "      border-color: transparent;\n",
              "      border-bottom-color: var(--fill-color);\n",
              "    }\n",
              "  }\n",
              "</style>\n",
              "\n",
              "  <script>\n",
              "    async function quickchart(key) {\n",
              "      const quickchartButtonEl =\n",
              "        document.querySelector('#' + key + ' button');\n",
              "      quickchartButtonEl.disabled = true;  // To prevent multiple clicks.\n",
              "      quickchartButtonEl.classList.add('colab-df-spinner');\n",
              "      try {\n",
              "        const charts = await google.colab.kernel.invokeFunction(\n",
              "            'suggestCharts', [key], {});\n",
              "      } catch (error) {\n",
              "        console.error('Error during call to suggestCharts:', error);\n",
              "      }\n",
              "      quickchartButtonEl.classList.remove('colab-df-spinner');\n",
              "      quickchartButtonEl.classList.add('colab-df-quickchart-complete');\n",
              "    }\n",
              "    (() => {\n",
              "      let quickchartButtonEl =\n",
              "        document.querySelector('#df-d8679257-edbf-4294-8a34-b83d456aeb48 button');\n",
              "      quickchartButtonEl.style.display =\n",
              "        google.colab.kernel.accessAllowed ? 'block' : 'none';\n",
              "    })();\n",
              "  </script>\n",
              "</div>\n",
              "\n",
              "    </div>\n",
              "  </div>\n"
            ],
            "application/vnd.google.colaboratory.intrinsic+json": {
              "type": "dataframe",
              "summary": "{\n  \"name\": \"data[0:10]\",\n  \"rows\": 10,\n  \"fields\": [\n    {\n      \"column\": \"Name\",\n      \"properties\": {\n        \"dtype\": \"string\",\n        \"num_unique_values\": 7,\n        \"samples\": [\n          \"Bulbasaur\",\n          \"Ivysaur\",\n          \"Charizard\"\n        ],\n        \"semantic_type\": \"\",\n        \"description\": \"\"\n      }\n    },\n    {\n      \"column\": \"Total\",\n      \"properties\": {\n        \"dtype\": \"number\",\n        \"std\": 136,\n        \"min\": 309,\n        \"max\": 634,\n        \"num_unique_values\": 8,\n        \"samples\": [\n          405,\n          534,\n          318\n        ],\n        \"semantic_type\": \"\",\n        \"description\": \"\"\n      }\n    },\n    {\n      \"column\": \"HP\",\n      \"properties\": {\n        \"dtype\": \"number\",\n        \"std\": 16,\n        \"min\": 39,\n        \"max\": 80,\n        \"num_unique_values\": 7,\n        \"samples\": [\n          45,\n          60,\n          78\n        ],\n        \"semantic_type\": \"\",\n        \"description\": \"\"\n      }\n    },\n    {\n      \"column\": \"Attack\",\n      \"properties\": {\n        \"dtype\": \"number\",\n        \"std\": 27,\n        \"min\": 48,\n        \"max\": 130,\n        \"num_unique_values\": 10,\n        \"samples\": [\n          104,\n          62,\n          64\n        ],\n        \"semantic_type\": \"\",\n        \"description\": \"\"\n      }\n    },\n    {\n      \"column\": \"Defence\",\n      \"properties\": {\n        \"dtype\": \"number\",\n        \"std\": 25,\n        \"min\": 43,\n        \"max\": 123,\n        \"num_unique_values\": 9,\n        \"samples\": [\n          111,\n          63,\n          58\n        ],\n        \"semantic_type\": \"\",\n        \"description\": \"\"\n      }\n    },\n    {\n      \"column\": \"Sp_attack\",\n      \"properties\": {\n        \"dtype\": \"number\",\n        \"std\": 34,\n        \"min\": 50,\n        \"max\": 159,\n        \"num_unique_values\": 9,\n        \"samples\": [\n          159,\n          80,\n          109\n        ],\n        \"semantic_type\": \"\",\n        \"description\": \"\"\n      }\n    },\n    {\n      \"column\": \"Sp_defence\",\n      \"properties\": {\n        \"dtype\": \"number\",\n        \"std\": 23,\n        \"min\": 50,\n        \"max\": 120,\n        \"num_unique_values\": 8,\n        \"samples\": [\n          80,\n          85,\n          65\n        ],\n        \"semantic_type\": \"\",\n        \"description\": \"\"\n      }\n    },\n    {\n      \"column\": \"Speed\",\n      \"properties\": {\n        \"dtype\": \"number\",\n        \"std\": 21,\n        \"min\": 43,\n        \"max\": 100,\n        \"num_unique_values\": 6,\n        \"samples\": [\n          45,\n          60,\n          43\n        ],\n        \"semantic_type\": \"\",\n        \"description\": \"\"\n      }\n    }\n  ]\n}"
            }
          },
          "metadata": {},
          "execution_count": 29
        }
      ]
    },
    {
      "cell_type": "markdown",
      "source": [
        "Data Pokemon dimuat dari file CSV yang berlokasi di ../input/pokemons-and-there-stats/pokemon_df.csv ke dalam DataFrame data menggunakan fungsi pd.read_csv dari pandas."
      ],
      "metadata": {
        "id": "uukbqXlmgQNK"
      }
    },
    {
      "cell_type": "code",
      "source": [
        "data.info()"
      ],
      "metadata": {
        "colab": {
          "base_uri": "https://localhost:8080/"
        },
        "id": "uwAx2WaVYp5A",
        "outputId": "91b59955-0747-433b-9f0a-169c0212f4f2"
      },
      "execution_count": null,
      "outputs": [
        {
          "output_type": "stream",
          "name": "stdout",
          "text": [
            "<class 'pandas.core.frame.DataFrame'>\n",
            "RangeIndex: 1045 entries, 0 to 1044\n",
            "Data columns (total 8 columns):\n",
            " #   Column      Non-Null Count  Dtype \n",
            "---  ------      --------------  ----- \n",
            " 0   Name        1045 non-null   object\n",
            " 1   Total       1045 non-null   int64 \n",
            " 2   HP          1045 non-null   int64 \n",
            " 3   Attack      1045 non-null   int64 \n",
            " 4   Defence     1045 non-null   int64 \n",
            " 5   Sp_attack   1045 non-null   int64 \n",
            " 6   Sp_defence  1045 non-null   int64 \n",
            " 7   Speed       1045 non-null   int64 \n",
            "dtypes: int64(7), object(1)\n",
            "memory usage: 65.4+ KB\n"
          ]
        }
      ]
    },
    {
      "cell_type": "markdown",
      "source": [
        "Bagian ini menggunakan metode info() dari DataFrame untuk menampilkan informasi ringkas tentang data, seperti jumlah entri, tipe data setiap kolom, dan memori yang digunakan.\n",
        "\n"
      ],
      "metadata": {
        "id": "WKbYGRxogWFr"
      }
    },
    {
      "cell_type": "code",
      "source": [
        "data2 = data[['Attack', 'Defence']]\n"
      ],
      "metadata": {
        "id": "CdN3BiNRYvnV"
      },
      "execution_count": null,
      "outputs": []
    },
    {
      "cell_type": "markdown",
      "source": [
        "Kolom Attack dan Defence dipilih dari DataFrame asli data dan disimpan dalam DataFrame baru data2. Fitur-fitur ini akan digunakan sebagai input untuk proses clustering."
      ],
      "metadata": {
        "id": "FOXtfjKMgbW8"
      }
    },
    {
      "cell_type": "code",
      "source": [
        "def do_agglomerative(X, n_clusters=2):\n",
        "    model = AgglomerativeClustering(n_clusters=n_clusters, affinity='euclidean', linkage='ward')\n",
        "    cluster_labels = model.fit_predict(X)\n",
        "    return cluster_labels"
      ],
      "metadata": {
        "id": "uImrpXYQY02s"
      },
      "execution_count": null,
      "outputs": []
    },
    {
      "cell_type": "markdown",
      "source": [
        "Fungsi do_agglomerative didefinisikan untuk melakukan clustering agglomerative. Fungsi ini menerima data X dan jumlah klaster n_clusters. Di dalam fungsi, model AgglomerativeClustering dibuat dengan parameter n_clusters, affinity='euclidean', dan linkage='ward'. Model ini kemudian di-fit dan hasil prediksi klaster (cluster_labels) dikembalikan."
      ],
      "metadata": {
        "id": "lXVdK0D7gcXf"
      }
    },
    {
      "cell_type": "code",
      "source": [
        "cluster_labels = do_agglomerative(data2, 20)"
      ],
      "metadata": {
        "id": "VSrDkcgQY3Xh"
      },
      "execution_count": null,
      "outputs": []
    },
    {
      "cell_type": "markdown",
      "source": [
        "Fungsi do_agglomerative dipanggil dengan data data2 dan jumlah klaster 20. Hasil dari clustering, yaitu label klaster, disimpan dalam variabel cluster_labels."
      ],
      "metadata": {
        "id": "KQ8Zybtegf_G"
      }
    },
    {
      "cell_type": "code",
      "source": [
        "data2['agglomerative'] = cluster_labels"
      ],
      "metadata": {
        "id": "PUApHZBhY6Pd"
      },
      "execution_count": null,
      "outputs": []
    },
    {
      "cell_type": "markdown",
      "source": [
        "Hasil clustering (label klaster) ditambahkan sebagai kolom baru agglomerative ke dalam DataFrame data2."
      ],
      "metadata": {
        "id": "4t2IeVIAggxQ"
      }
    },
    {
      "cell_type": "code",
      "source": [
        "data2['Name'] = data['Name']"
      ],
      "metadata": {
        "id": "FCt2qFz9bkJv"
      },
      "execution_count": null,
      "outputs": []
    },
    {
      "cell_type": "markdown",
      "source": [
        "Kolom Name dari DataFrame asli data juga ditambahkan ke dalam DataFrame data2. Ini dilakukan agar nama Pokemon dapat ditampilkan bersama dengan hasil clustering."
      ],
      "metadata": {
        "id": "C5sYFnmugkcp"
      }
    },
    {
      "cell_type": "code",
      "source": [
        "for i in range(20):\n",
        "    names_in_cluster = data2[data2['agglomerative'] == i]['Name']\n",
        "    print(f'### Agglomerative Cluster {i}')\n",
        "    print(list(set(names_in_cluster)))\n",
        "    print()"
      ],
      "metadata": {
        "colab": {
          "base_uri": "https://localhost:8080/"
        },
        "id": "JQTMgD_Jez51",
        "outputId": "5e5ad006-4102-4f12-d649-62ce0203b125"
      },
      "execution_count": null,
      "outputs": [
        {
          "output_type": "stream",
          "name": "stdout",
          "text": [
            "### Agglomerative Cluster 0\n",
            "['Cosmoem', 'Shuckle', 'Cofagrigus', 'Deoxys', 'Nosepass', 'Bastiodon', 'Registeel', 'Probopass', 'Onix', 'Aegislash', 'Carbink', 'Toxapex']\n",
            "\n",
            "### Agglomerative Cluster 1\n",
            "['Jynx', 'Scatterbug', 'Feebas', 'Kricketot', 'Cosmog', 'Gastly', 'Cutiefly', 'Wishiwashi', 'Tyrogue', 'Meowth', 'Smeargle', 'Spoink', 'Vulpix', 'Rookidee', 'Weedle', 'Slugma', 'Pidgey', 'Hoppip', 'Lotad', 'Igglybuff', 'Zigzagoon', 'Snom', 'Sentret', 'Bounsweet', 'Mime Jr.', 'Jigglypuff', 'Kadabra', 'Fennekin', 'Chinchou', 'Chansey', 'Abra', 'Nickit', 'Helioptile', 'Burmy', 'Ledyba', 'Blipbug', 'Mareep', 'Surskit', 'Pichu', 'Bunnelby', 'Hatenna', 'Electrike', 'Wimpod', 'Sinistea', 'Noibat', 'Bidoof', 'Sunkern', 'Treecko', 'Smoochum', 'Happiny', 'Goomy', 'Kirlia', 'Flabébé', 'Ralts', 'Caterpie', 'Clefairy', 'Salandit', 'Milcery', 'Wingull', 'Skitty', 'Zubat', 'Cleffa', 'Budew', 'Woobat', 'Munna', 'Wooper', 'Tentacool', 'Drifloon', 'Hoothoot', 'Combee', 'Solosis', 'Impidimp', 'Floette', 'Wurmple', 'Azurill', 'Toxel', 'Purrloin', 'Sobble', 'Blissey']\n",
            "\n",
            "### Agglomerative Cluster 2\n",
            "['Nidoran♀', 'Nihilego', 'Tympole', 'Charmander', 'Glameow', 'Sandile', 'Buizel', 'Ekans', 'Carvanha', 'Noctowl', 'Makuhita', 'Haunter', 'Chimchar', 'Minccino', 'Joltik', 'Houndour', 'Delibird', 'Yanma', 'Froakie', 'Bellsprout', 'Fomantis', 'Sizzlipede', 'Magby', 'Yamper', 'Piplup', 'Remoraid', 'Patrat', 'Zorua', 'Finneon', 'Shinx', 'Blitzle', 'Yungoos', 'Ducklett', 'Bulbasaur', 'Barboach', 'Swinub', 'Spinarak', 'Lillipup', 'Snover', 'Taillow', 'Espurr', 'Tepig', 'Morgrem', 'Psyduck', 'Larvitar', 'Venonat', 'Alakazam', 'Eevee', 'Lombre', 'Butterfree', 'Grovyle', 'Cryogonal', 'Fletchling', 'Shuppet', 'Rattata', 'Dratini', 'Spearow', 'Rockruff', 'Pidove', 'Karrablast', 'Natu', 'Vanillite', 'Pansear', 'Cyndaquil', 'Oshawott', 'Shellos', 'Panpour', 'Elekid', 'Amaura', 'Diglett', 'Scorbunny', 'Accelgor', 'Chewtle', 'Vivillon', 'Pikachu', 'Starly', 'Loudred', 'Chatot', 'Whismur', 'Arrokuda', 'Wailmer', 'Mankey', 'Wigglytuff', 'Cubchoo', 'Torchic', 'Roselia', 'Buneary', 'Grubbin', 'Plusle', 'Riolu', 'Gible', 'Foongus', 'Croagunk', 'Poochyena', 'Deino', 'Ditto', 'Pikipek', 'Stunky', 'Drowzee', 'Nuzleaf', 'Tynamo', 'Skiploom', 'Pansage', 'Grookey', 'Litten', 'Growlithe', 'Skiddo', 'Oddish', 'Deerling', 'Snorunt', 'Nidoran♂', 'Numel', 'Dreepy', 'Frogadier', 'Poliwag']\n",
            "\n",
            "### Agglomerative Cluster 3\n",
            "['Slowbro', 'Steelix', 'Cloyster', 'Avalugg', 'Aggron', 'Stakataka', 'Eternatus', 'Regirock']\n",
            "\n",
            "### Agglomerative Cluster 4\n",
            "['Rapidash', 'Toxicroak', 'Abomasnow', 'Lucario', 'Garbodor', 'Vanilluxe', 'Mudbray', 'Nidoking', 'Kyogre', 'Charizard', 'Throh', 'Tyrunt', 'Zeraora', 'Medicham', 'Goodra', 'Quagsire', 'Qwilfish', 'Sawsbuck', 'Sceptile', 'Gurdurr', 'Leavanny', 'Zapdos', 'Flapple', 'Machoke', 'Darkrai', 'Bruxish', 'Latios', 'Carnivine', 'Solrock', 'Thundurus', 'Toxtricity', 'Muk', 'Exeggutor', 'Arctozolt', 'Tornadus', 'Hydreigon', 'Arcanine', 'Malamar', 'Snorlax', 'Zygarde', 'Articuno', 'Victreebel', 'Piloswine', 'Dodrio', 'Parasect', 'Hitmonchan', 'Camerupt', 'Mimikyu', 'Lurantis', 'Aerodactyl', 'Infernape', 'Hawlucha', 'Nidoqueen', 'Crobat', 'Dracozolt', 'Empoleon', 'Shaymin', 'Trevenant', 'Flygon', 'Krabby', 'Samurott', 'Deoxys', 'Mawile', 'Grotle', 'Scolipede', 'Scyther', 'Moltres', 'Kangaskhan', 'Houndoom', 'Decidueye', 'Octillery', 'Seismitoad']\n",
            "\n",
            "### Agglomerative Cluster 5\n",
            "['Krookodile', 'Ursaring', 'Swampert', 'Weavile', 'Lycanroc', 'Banette', 'Passimian', 'Heracross', 'Cinderace', 'Gyarados', 'Gumshoos', 'Crabominable', 'Machamp', 'Marshadow', 'Gallade', 'Grapploct', 'Honchkrow', 'Staraptor', 'Crawdaunt', 'Barraskewda', 'Kyurem', 'Breloom', 'Bouffalant', 'Electivire', 'Blaziken', 'Glalie', 'Bewear', 'Thundurus', 'Granbull', 'Beartic', 'Grimmsnarl', 'Fraxure', 'Tornadus', 'Hitmonlee', 'Golurk', 'Braviary', 'Drednaw', 'Entei', 'Blacephalon', 'Absol', 'Cacturne', 'Emboar', 'Mewtwo', 'Komala', 'Sawk', 'Salamence', 'Druddigon', 'Excadrill', 'Aerodactyl', 'Lunala', 'Mamoswine', 'Pangoro', 'Tapu Koko', 'Hariyama', 'Mienshao', 'Incineroar', 'Copperajah', 'Dragapult', 'Eelektross', 'Zangoose', 'Azelf', 'Luxray', 'Unfezant', 'Toucannon', 'Centiskorch', 'Flareon', 'Stoutland', 'Hoopa']\n",
            "\n",
            "### Agglomerative Cluster 6\n",
            "['Rampardos', 'Archen', 'Beedrill', 'Archeops', 'Mewtwo', 'Blaziken', 'Deoxys', 'Banette', 'Cranidos', 'Greninja', 'Sharpedo', 'Pheromosa', 'Darmanitan', 'Aegislash', 'Absol', 'Hoopa']\n",
            "\n",
            "### Agglomerative Cluster 7\n",
            "['Meganium', 'Mandibuzz', 'Porygon2', 'Magnezone', 'Audino', 'Bellossom', 'Gligar', 'Tapu Fini', 'Bonsly', 'Rhyhorn', 'Lickilicky', 'Honedge', 'Umbreon', 'Klang', 'Klefki', 'Charjabug', 'Pyukumuku', 'Eternatus', 'Hatterene', 'Quilladin', 'Suicune', 'Cradily', 'Wormadam', 'Walrein', 'Kabuto', 'Marowak', 'Glaceon', 'Stunfisk', 'Claydol', 'Geodude', 'Articuno', 'Vespiquen', 'Omastar', 'Eiscue', 'Serperior', 'Uxie', 'Tirtouga', 'Latias', 'Dubwool', 'Rotom', 'Slowbro', 'Dusclops', 'Cresselia', 'Metang', 'Blastoise', 'Miltank', 'Palossand']\n",
            "\n",
            "### Agglomerative Cluster 8\n",
            "['Duraludon', 'Klinklang', 'Chesnaught', 'Torkoal', 'Lugia', 'Kommo-o', 'Graveler', 'Barbaracle', 'Gourgeist', 'Golem', 'Dialga', 'Skarmory', 'Runerigus', 'Tangrowth', 'Lairon', 'Turtonator', 'Sandaconda', 'Sudowoodo', 'Sandslash', 'Giratina', 'Scrafty', 'Bronzong', 'Zygarde', 'Gliscor', 'Dusknoir', 'Magearna', 'Crustle', 'Venusaur', 'Latias', 'Arceus', 'Cobalion', 'Leafeon', 'Diancie', 'Donphan', 'Sableye', 'Doublade', 'Mawile', 'Weezing', 'Carracosta', 'Blastoise', 'Forretress', 'Tyrantrum', 'Ferrothorn', 'Relicanth', 'Coalossal']\n",
            "\n",
            "### Agglomerative Cluster 9\n",
            "['Seviper', 'Exploud', 'Cinccino', \"Farfetch'd\", 'Shiftry', 'Inteleon', 'Fearow', 'Marshtomp', 'Porygon-Z', 'Heatmor', 'Dugtrio', 'Thwackey', 'Swanna', 'Herdier', 'Sceptile', 'Pignite', 'Pancham', 'Skuntank', 'Gogoat', 'Greninja', 'Dragonair', 'Zweilous', 'Boltund', 'Froslass', 'Kubfu', 'Morpeko', 'Magmar', 'Kecleon', 'Basculin', 'Magmortar', 'Arbok', 'Gabite', 'Pupitar', 'Eiscue', 'Zebstrika', 'Simipour', 'Maractus', 'Minior', 'Purugly', 'Ariados', 'Gardevoir', 'Pawniard', 'Amoonguss', 'Girafarig', 'Raichu', 'Seaking', 'Talonflame', 'Mightyena', 'Zoroark', 'Floatzel', 'Golbat', 'Simisear', 'Togedemaru', 'Xurkitree', 'Virizion', 'Gastrodon', 'Stantler', 'Primeape', 'Sneasel', 'Corphish', 'Ambipom', 'Eelektrik', 'Simisage', 'Watchog']\n",
            "\n",
            "### Agglomerative Cluster 10\n",
            "['Wishiwashi', 'Stonjourner', 'Metagross', 'Melmetal', 'Tyranitar', 'Salamence', 'Groudon', 'Rhyperior', 'Gigalith', 'Glastrier', 'Zamazenta', 'Golisopod', 'Scizor', 'Buzzwole', 'Calyrex']\n",
            "\n",
            "### Agglomerative Cluster 11\n",
            "['Abomasnow', 'Lucario', 'Solgaleo', 'Kyogre', 'Charizard', 'Rhydon', 'Tsareena', 'Palkia', 'Zapdos', 'Kyurem', 'Tapu Bulu', 'Zacian', 'Ho-oh', 'Latios', 'Conkeldurr', 'Reshiram', 'Rayquaza', 'Genesect', 'Dhelmise', 'Yveltal', 'Giratina', 'Haxorus', 'Urshifu', 'Camerupt', 'Escavalier', 'Tyranitar', 'Garchomp', 'Mudsdale', \"Sirfetch'd\", 'Armaldo', 'Pinsir', 'Zamazenta', 'Meloetta', 'Scizor', 'Dragonite', 'Bisharp', 'Rillaboom', 'Xerneas', 'Terrakion', 'Kangaskhan', 'Lopunny', 'Landorus', 'Kingler']\n",
            "\n",
            "### Agglomerative Cluster 12\n",
            "['Wartortle', 'Gengar', 'Tapu Lele', 'Ludicolo', 'Poipole', 'Reuniclus', 'Alomomola', 'Glalie', 'Altaria', 'Whiscash', 'Vigoroth', 'Yanmega', 'Whimsicott', 'Meloetta', 'Swalot', 'Phione', 'Keldeo', 'Dartrix', 'Manectric', 'Koffing', 'Slurpuff', 'Lopunny', 'Venusaur', 'Ninetales', 'Hippopotas', 'Charizard', 'Aromatisse', 'Appletun', 'Wormadam', 'Stunfisk', 'Carkol', 'Clamperl', 'Seadra', 'Scraggy', 'Shellder', 'Eevee', 'Tropius', 'Dwebble', 'Raticate', 'Castform', 'Yamask', 'Xatu', 'Hakamo-o', 'Starmie', 'Volbeat', 'Lumineon', 'Aron', 'Clefable', 'Brionne', 'Audino', 'Noivern', 'Primarina', 'Oricorio', 'Delphox', 'Calyrex', 'Naganadel', 'Slowking', 'Mr. Rime', 'Aurorus', 'Raikou', 'Vileplume', 'Drampa', 'Vikavolt', 'Golduck', 'Hypno', 'Sableye', 'Dewgong', 'Dragalge', 'Bergmite', 'Dunsparce', 'Pidgeot', 'Politoed', 'Roggenrola', 'Sandshrew', 'Lapras', 'Beheeyem', 'Araquanid', 'Bayleef', 'Ampharos', 'Typhlosion', 'Clawitzer', 'Swadloon', 'Pineco', 'Croconaw', 'Musharna', 'Pyroar']\n",
            "\n",
            "### Agglomerative Cluster 13\n",
            "['Swoobat', 'Misdreavus', 'Delcatty', 'Nidorina', 'Skrelp', 'Dedenne', 'Jellicent', 'Indeedee', 'Gengar', 'Quilava', 'Pumpkaboo', 'Pidgeotto', 'Persian', 'Popplio', 'Charmeleon', 'Spinda', 'Clauncher', 'Spritzee', 'Espeon', 'Palpitoad', 'Spectrier', 'Totodile', 'Masquerain', 'Skwovet', 'Lanturn', 'Polteageist', 'Tentacruel', 'Elgyem', 'Clobbopus', 'Litleo', 'Braixen', 'Vaporeon', 'Meowth', 'Meltan', 'Thievul', 'Goldeen', 'Cherrim', 'Slowpoke', 'Inkay', 'Salazzle', 'Linoone', 'Venomoth', 'Rowlet', 'Prinplup', 'Mr. Mime', 'Phanpy', 'Gardevoir', 'Roserade', 'Mareanie', 'Florges', 'Sealeo', 'Mismagius', 'Corvisquire', 'Ivysaur', 'Turtwig', 'Poliwhirl', 'Vanillish', 'Porygon', 'Flaaffy', 'Frosmoth', 'Sylveon', 'Chespin', 'Jolteon', 'Trubbish', 'Volcarona', 'Gloom', 'Heliolisk', 'Ribombee', 'Slakoth', 'Drizzile']\n",
            "\n",
            "### Agglomerative Cluster 14\n",
            "['Regieleki', 'Beedrill', 'Drilbur', 'Darumaka', 'Paras', 'Drakloak', 'Drifblim', 'Munchlax', 'Stufful', 'Guzzlord', 'Timburr', 'Raboot', 'Dugtrio', 'Mudkip', 'Tranquill', 'Golett', 'Swellow', 'Rufflet', 'Pikachu', 'Mienfoo', 'Machop', 'Ponyta', 'Vibrava', 'Trapinch', 'Kricketune', 'Cramorant', 'Luxio', 'Unown', 'Staravia', 'Doduo', 'Mothim', 'Trumbeak', 'Crabrawler', 'Wailord', 'Axew', 'Combusken', 'Phantump', 'Torracat', 'Sunflora', 'Dewott', 'Ninjask', 'Nidorino', 'Larvesta', 'Raticate', 'Fletchinder', 'Cufant', 'Krokorok', 'Cursola', 'Raichu', 'Beautifly', 'Bagon', 'Regidrago', 'Anorith', 'Shedinja', 'Electabuzz', 'Furret', 'Manectric', 'Cacnea', 'Liepard', 'Teddiursa', 'Sliggoo', 'Emolga', 'Murkrow', 'Houndoom', 'Weepinbell', 'Monferno', 'Galvantula', 'Snubbull', 'Bibarel', 'Furfrou', 'Aipom', 'Grimer']\n",
            "\n",
            "### Agglomerative Cluster 15\n",
            "['Gorebyss', 'Boldore', 'Hippowdon', 'Spiritomb', 'Huntail', 'Celesteela', 'Zarude', 'Durant', 'Volcanion', 'Arctovish', 'Hitmontop', 'Kingdra', 'Altaria', 'Corviknight', 'Perrserker', 'Victini', 'Necrozma', 'Shelgon', 'Manaphy', 'Type: Null', 'Silvally', 'Ampharos', 'Mew', 'Torterra', 'Drapion', 'Shaymin', 'Poliwrath', 'Mesprit', 'Falinks', 'Kabutops', 'Dracovish', 'Tauros', 'Jirachi', 'Slowbro', 'Greedent', 'Pincurchin', 'Heatran', 'Celebi', 'Feraligatr', 'Obstagoon']\n",
            "\n",
            "### Agglomerative Cluster 16\n",
            "['Kyurem', 'Swampert', 'Mewtwo', 'Kartana', 'Slaking', 'Regigigas', 'Zekrom', 'Zacian', 'Garchomp', 'Heracross', 'Rayquaza', 'Gyarados', 'Pinsir', 'Gallade', 'Necrozma', 'Diancie']\n",
            "\n",
            "### Agglomerative Cluster 17\n",
            "['Petilil', 'Litwick', 'Wooloo', 'Togepi', 'Ledian', 'Marill', 'Chingling', 'Seel', 'Metapod', 'Lampent', 'Gothita', 'Silcoon', 'Gulpin', 'Mantyke', 'Cottonee', 'Morelull', 'Minun', 'Magikarp', 'Wynaut', 'Venipede', 'Meditite', 'Spheal', 'Steenee', 'Baltoy', 'Staryu', 'Shroomish', 'Luvdisc', 'Seedot', 'Frillish', 'Kakuna', 'Cherubi', 'Spewpa', 'Rolycoly', 'Cascoon', 'Snivy', 'Gossifleur', 'Dewpider', 'Swablu', 'Duosion', 'Wobbuffet', 'Voltorb']\n",
            "\n",
            "### Agglomerative Cluster 18\n",
            "['Ferroseed', 'Regice', 'Whirlipede', 'Togekiss', 'Magcargo', 'Comfey', 'Orbeetle', 'Cubone', 'Skorupi', 'Eldegoss', 'Tangela', 'Gothitelle', 'Minior', 'Darmanitan', 'Chandelure', 'Pelipper', 'Omanyte', 'Magneton', 'Corsola', 'Shieldon']\n",
            "\n",
            "### Agglomerative Cluster 19\n",
            "['Indeedee', 'Illumise', 'Klink', 'Medicham', 'Silicobra', 'Dustox', 'Mantine', 'Exeggcute', 'Servine', 'Duskull', 'Chikorita', 'Lunatone', 'Chimecho', 'Bronzor', 'Sigilyph', 'Swirlix', 'Binacle', 'Horsea', 'Hattrem', 'Pachirisu', 'Sandygast', 'Alakazam', 'Grumpig', 'Shiinotic', 'Azumarill', 'Alcremie', 'Sewaddle', 'Yamask', 'Lileep', 'Mr. Mime', 'Nincada', 'Shelmet', 'Magnemite', 'Diggersby', 'Lickitung', 'Vullaby', 'Jangmo-o', 'Rotom', 'Dottler', 'Togetic', 'Meowstic', 'Squirtle', 'Gothorita', 'Beldum', 'Lilligant', 'Jumpluff', 'Electrode', 'Oranguru', 'Applin', 'Milotic']\n",
            "\n"
          ]
        }
      ]
    },
    {
      "cell_type": "markdown",
      "source": [
        "Bagian ini melakukan iterasi melalui setiap klaster (dari 0 hingga 19) dan menampilkan nama-nama Pokemon yang termasuk dalam setiap klaster. Untuk setiap klaster, data disaring untuk mengambil nama-nama Pokemon yang memiliki label klaster yang sama, kemudian dicetak dalam format yang rapi."
      ],
      "metadata": {
        "id": "2sKC_abygnEu"
      }
    }
  ]
}